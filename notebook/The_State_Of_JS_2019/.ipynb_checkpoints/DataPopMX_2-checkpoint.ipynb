{
 "cells": [
  {
   "cell_type": "markdown",
   "metadata": {},
   "source": [
    "![logo](support/images/Header_Logo_0.png)"
   ]
  },
  {
   "cell_type": "markdown",
   "metadata": {},
   "source": [
    "# Y La Culpa No Era Mía (Data Analysis and Visualization)"
   ]
  },
  {
   "cell_type": "markdown",
   "metadata": {},
   "source": [
    "Created by **DataPopMX** (hola@datapop.mx)"
   ]
  },
  {
   "cell_type": "markdown",
   "metadata": {},
   "source": [
    "    "
   ]
  },
  {
   "cell_type": "markdown",
   "metadata": {},
   "source": [
    "    "
   ]
  },
  {
   "cell_type": "markdown",
   "metadata": {},
   "source": [
    "    "
   ]
  },
  {
   "cell_type": "markdown",
   "metadata": {},
   "source": [
    "Using are going to use a **Natural Language Processing Algorithm (NLP)** and an *in-house* crawled data set from Twitter in order to take a snapshoot of the protest  \"Y La Culpa No era Mía\"."
   ]
  },
  {
   "cell_type": "code",
   "execution_count": 1,
   "metadata": {},
   "outputs": [],
   "source": [
    "import pandas as pd"
   ]
  },
  {
   "cell_type": "code",
   "execution_count": 2,
   "metadata": {},
   "outputs": [],
   "source": [
    "import numpy as np"
   ]
  },
  {
   "cell_type": "code",
   "execution_count": 3,
   "metadata": {},
   "outputs": [],
   "source": [
    "import matplotlib.pyplot as plt"
   ]
  },
  {
   "cell_type": "markdown",
   "metadata": {},
   "source": [
    "### Analysis"
   ]
  },
  {
   "cell_type": "code",
   "execution_count": 4,
   "metadata": {},
   "outputs": [],
   "source": [
    "data_pd = pd.read_csv(\"data/DataPopMX_Data.csv\")"
   ]
  },
  {
   "cell_type": "code",
   "execution_count": 5,
   "metadata": {},
   "outputs": [
    {
     "data": {
      "text/plain": [
       "(354, 6)"
      ]
     },
     "execution_count": 5,
     "metadata": {},
     "output_type": "execute_result"
    }
   ],
   "source": [
    "data_pd.shape"
   ]
  },
  {
   "cell_type": "code",
   "execution_count": 6,
   "metadata": {},
   "outputs": [
    {
     "data": {
      "text/plain": [
       "2832"
      ]
     },
     "execution_count": 6,
     "metadata": {},
     "output_type": "execute_result"
    }
   ],
   "source": [
    "total_tweets = data_pd.shape[0]*8\n",
    "total_tweets"
   ]
  },
  {
   "cell_type": "code",
   "execution_count": 16,
   "metadata": {},
   "outputs": [
    {
     "data": {
      "text/html": [
       "<div>\n",
       "<style scoped>\n",
       "    .dataframe tbody tr th:only-of-type {\n",
       "        vertical-align: middle;\n",
       "    }\n",
       "\n",
       "    .dataframe tbody tr th {\n",
       "        vertical-align: top;\n",
       "    }\n",
       "\n",
       "    .dataframe thead th {\n",
       "        text-align: right;\n",
       "    }\n",
       "</style>\n",
       "<table border=\"1\" class=\"dataframe\">\n",
       "  <thead>\n",
       "    <tr style=\"text-align: right;\">\n",
       "      <th></th>\n",
       "      <th>Age</th>\n",
       "      <th>Location</th>\n",
       "      <th>Dressing</th>\n",
       "      <th>Ofencer</th>\n",
       "      <th>URL</th>\n",
       "      <th>User</th>\n",
       "    </tr>\n",
       "  </thead>\n",
       "  <tbody>\n",
       "    <tr>\n",
       "      <th>0</th>\n",
       "      <td>6</td>\n",
       "      <td>Squash</td>\n",
       "      <td>Ropa de Niña</td>\n",
       "      <td>NaN</td>\n",
       "      <td>https://twitter.com/alejandraemeuve/status/120...</td>\n",
       "      <td>NaN</td>\n",
       "    </tr>\n",
       "    <tr>\n",
       "      <th>1</th>\n",
       "      <td>4</td>\n",
       "      <td>Casa Familiar</td>\n",
       "      <td>Vestido de Fiesta</td>\n",
       "      <td>NaN</td>\n",
       "      <td>https://twitter.com/ternuraradical/status/1200...</td>\n",
       "      <td>NaN</td>\n",
       "    </tr>\n",
       "    <tr>\n",
       "      <th>2</th>\n",
       "      <td>4</td>\n",
       "      <td>Casa Familiar</td>\n",
       "      <td>Ropa de Niña</td>\n",
       "      <td>NaN</td>\n",
       "      <td>https://twitter.com/Culturosa_/status/12014744...</td>\n",
       "      <td>NaN</td>\n",
       "    </tr>\n",
       "    <tr>\n",
       "      <th>3</th>\n",
       "      <td>9</td>\n",
       "      <td>Casa Familiar</td>\n",
       "      <td>Blusa</td>\n",
       "      <td>NaN</td>\n",
       "      <td>https://twitter.com/X88gGt/status/120097549622...</td>\n",
       "      <td>NaN</td>\n",
       "    </tr>\n",
       "    <tr>\n",
       "      <th>4</th>\n",
       "      <td>12</td>\n",
       "      <td>Casa Familiar</td>\n",
       "      <td>Pijama</td>\n",
       "      <td>NaN</td>\n",
       "      <td>NaN</td>\n",
       "      <td>NaN</td>\n",
       "    </tr>\n",
       "    <tr>\n",
       "      <th>5</th>\n",
       "      <td>42</td>\n",
       "      <td>Casa Familiar</td>\n",
       "      <td>Camisa blanca, falda negra yenis</td>\n",
       "      <td>NaN</td>\n",
       "      <td>NaN</td>\n",
       "      <td>NaN</td>\n",
       "    </tr>\n",
       "    <tr>\n",
       "      <th>6</th>\n",
       "      <td>10</td>\n",
       "      <td>Trabajo</td>\n",
       "      <td>Vestido</td>\n",
       "      <td>NaN</td>\n",
       "      <td>NaN</td>\n",
       "      <td>NaN</td>\n",
       "    </tr>\n",
       "    <tr>\n",
       "      <th>7</th>\n",
       "      <td>4</td>\n",
       "      <td>Casa Familiar</td>\n",
       "      <td>Ropa de Niña</td>\n",
       "      <td>Primo</td>\n",
       "      <td>NaN</td>\n",
       "      <td>NaN</td>\n",
       "    </tr>\n",
       "    <tr>\n",
       "      <th>8</th>\n",
       "      <td>25</td>\n",
       "      <td>Casa Familiar</td>\n",
       "      <td>Pants</td>\n",
       "      <td>Asalto</td>\n",
       "      <td>NaN</td>\n",
       "      <td>NaN</td>\n",
       "    </tr>\n",
       "    <tr>\n",
       "      <th>9</th>\n",
       "      <td>10</td>\n",
       "      <td>Coche</td>\n",
       "      <td>Camiseta y pantalon</td>\n",
       "      <td>Amigos de Padres</td>\n",
       "      <td>https://twitter.com/JacquelineVogeI/status/120...</td>\n",
       "      <td>NaN</td>\n",
       "    </tr>\n",
       "    <tr>\n",
       "      <th>10</th>\n",
       "      <td>12</td>\n",
       "      <td>Saliendo primaria</td>\n",
       "      <td>Pantalon Mezclilla y Playera</td>\n",
       "      <td>NaN</td>\n",
       "      <td>NaN</td>\n",
       "      <td>NaN</td>\n",
       "    </tr>\n",
       "    <tr>\n",
       "      <th>11</th>\n",
       "      <td>5</td>\n",
       "      <td>NaN</td>\n",
       "      <td>Ropa de Niña</td>\n",
       "      <td>NaN</td>\n",
       "      <td>NaN</td>\n",
       "      <td>NaN</td>\n",
       "    </tr>\n",
       "    <tr>\n",
       "      <th>12</th>\n",
       "      <td>5</td>\n",
       "      <td>Casa Familiar</td>\n",
       "      <td>Ropa de Niña</td>\n",
       "      <td>NaN</td>\n",
       "      <td>NaN</td>\n",
       "      <td>NaN</td>\n",
       "    </tr>\n",
       "    <tr>\n",
       "      <th>13</th>\n",
       "      <td>19</td>\n",
       "      <td>Casa Familiar</td>\n",
       "      <td>Pijama</td>\n",
       "      <td>NaN</td>\n",
       "      <td>https://twitter.com/ariss_lpez/status/12015172...</td>\n",
       "      <td>NaN</td>\n",
       "    </tr>\n",
       "    <tr>\n",
       "      <th>14</th>\n",
       "      <td>4</td>\n",
       "      <td>Casa Familiar</td>\n",
       "      <td>Overol</td>\n",
       "      <td>NaN</td>\n",
       "      <td>https://twitter.com/FiorelaLeon91/status/12012...</td>\n",
       "      <td>NaN</td>\n",
       "    </tr>\n",
       "    <tr>\n",
       "      <th>15</th>\n",
       "      <td>21</td>\n",
       "      <td>Casa Familiar</td>\n",
       "      <td>NaN</td>\n",
       "      <td>NaN</td>\n",
       "      <td>NaN</td>\n",
       "      <td>NaN</td>\n",
       "    </tr>\n",
       "    <tr>\n",
       "      <th>16</th>\n",
       "      <td>13</td>\n",
       "      <td>NaN</td>\n",
       "      <td>NaN</td>\n",
       "      <td>Amigos de Padres</td>\n",
       "      <td>NaN</td>\n",
       "      <td>NaN</td>\n",
       "    </tr>\n",
       "    <tr>\n",
       "      <th>17</th>\n",
       "      <td>5</td>\n",
       "      <td>Casa Familiar</td>\n",
       "      <td>Ropa de Niña</td>\n",
       "      <td>NaN</td>\n",
       "      <td>https://twitter.com/dareyou_17/status/12013237...</td>\n",
       "      <td>NaN</td>\n",
       "    </tr>\n",
       "    <tr>\n",
       "      <th>18</th>\n",
       "      <td>15</td>\n",
       "      <td>Casa Familiar</td>\n",
       "      <td>Pijama</td>\n",
       "      <td>NaN</td>\n",
       "      <td>https://twitter.com/Fernanda_alv2/status/12012...</td>\n",
       "      <td>NaN</td>\n",
       "    </tr>\n",
       "    <tr>\n",
       "      <th>19</th>\n",
       "      <td>4</td>\n",
       "      <td>Casa Familiar</td>\n",
       "      <td>Ropa de Niña</td>\n",
       "      <td>NaN</td>\n",
       "      <td>https://twitter.com/bojorquez_bri/status/12011...</td>\n",
       "      <td>NaN</td>\n",
       "    </tr>\n",
       "  </tbody>\n",
       "</table>\n",
       "</div>"
      ],
      "text/plain": [
       "    Age           Location                          Dressing  \\\n",
       "0     6             Squash                      Ropa de Niña   \n",
       "1     4      Casa Familiar                 Vestido de Fiesta   \n",
       "2     4      Casa Familiar                      Ropa de Niña   \n",
       "3     9      Casa Familiar                             Blusa   \n",
       "4    12      Casa Familiar                            Pijama   \n",
       "5    42      Casa Familiar  Camisa blanca, falda negra yenis   \n",
       "6    10            Trabajo                           Vestido   \n",
       "7     4      Casa Familiar                      Ropa de Niña   \n",
       "8    25      Casa Familiar                             Pants   \n",
       "9    10              Coche               Camiseta y pantalon   \n",
       "10   12  Saliendo primaria      Pantalon Mezclilla y Playera   \n",
       "11    5                NaN                      Ropa de Niña   \n",
       "12    5      Casa Familiar                      Ropa de Niña   \n",
       "13   19      Casa Familiar                            Pijama   \n",
       "14    4      Casa Familiar                            Overol   \n",
       "15   21      Casa Familiar                               NaN   \n",
       "16   13                NaN                               NaN   \n",
       "17    5      Casa Familiar                      Ropa de Niña   \n",
       "18   15      Casa Familiar                            Pijama   \n",
       "19    4      Casa Familiar                      Ropa de Niña   \n",
       "\n",
       "             Ofencer                                                URL  User  \n",
       "0                NaN  https://twitter.com/alejandraemeuve/status/120...   NaN  \n",
       "1                NaN  https://twitter.com/ternuraradical/status/1200...   NaN  \n",
       "2                NaN  https://twitter.com/Culturosa_/status/12014744...   NaN  \n",
       "3                NaN  https://twitter.com/X88gGt/status/120097549622...   NaN  \n",
       "4                NaN                                                NaN   NaN  \n",
       "5                NaN                                                NaN   NaN  \n",
       "6                NaN                                                NaN   NaN  \n",
       "7              Primo                                                NaN   NaN  \n",
       "8             Asalto                                                NaN   NaN  \n",
       "9   Amigos de Padres  https://twitter.com/JacquelineVogeI/status/120...   NaN  \n",
       "10               NaN                                                NaN   NaN  \n",
       "11               NaN                                                NaN   NaN  \n",
       "12               NaN                                                NaN   NaN  \n",
       "13               NaN  https://twitter.com/ariss_lpez/status/12015172...   NaN  \n",
       "14               NaN  https://twitter.com/FiorelaLeon91/status/12012...   NaN  \n",
       "15               NaN                                                NaN   NaN  \n",
       "16  Amigos de Padres                                                NaN   NaN  \n",
       "17               NaN  https://twitter.com/dareyou_17/status/12013237...   NaN  \n",
       "18               NaN  https://twitter.com/Fernanda_alv2/status/12012...   NaN  \n",
       "19               NaN  https://twitter.com/bojorquez_bri/status/12011...   NaN  "
      ]
     },
     "execution_count": 16,
     "metadata": {},
     "output_type": "execute_result"
    }
   ],
   "source": [
    "data_pd.head(20)"
   ]
  },
  {
   "cell_type": "code",
   "execution_count": 8,
   "metadata": {},
   "outputs": [
    {
     "data": {
      "text/plain": [
       "Age           int64\n",
       "Location     object\n",
       "Dressing     object\n",
       "Ofencer      object\n",
       "URL          object\n",
       "User        float64\n",
       "dtype: object"
      ]
     },
     "execution_count": 8,
     "metadata": {},
     "output_type": "execute_result"
    }
   ],
   "source": [
    "data_pd.dtypes"
   ]
  },
  {
   "cell_type": "code",
   "execution_count": 9,
   "metadata": {},
   "outputs": [
    {
     "data": {
      "text/plain": [
       "<matplotlib.axes._subplots.AxesSubplot at 0x111287668>"
      ]
     },
     "execution_count": 9,
     "metadata": {},
     "output_type": "execute_result"
    },
    {
     "data": {
      "image/png": "[encoded data removed]",
      "text/plain": [
       "<Figure size 432x288 with 1 Axes>"
      ]
     },
     "metadata": {
      "needs_background": "light"
     },
     "output_type": "display_data"
    }
   ],
   "source": [
    "data_pd[\"Age\"].plot.hist(bins=20)"
   ]
  },
  {
   "cell_type": "code",
   "execution_count": 10,
   "metadata": {},
   "outputs": [
    {
     "name": "stdout",
     "output_type": "stream",
     "text": [
      "6     42\n",
      "5     35\n",
      "4     33\n",
      "7     27\n",
      "10    22\n",
      "9     20\n",
      "8     18\n",
      "16    17\n",
      "12    15\n",
      "11    15\n",
      "14    14\n",
      "15    13\n",
      "13    13\n",
      "21    12\n",
      "17    11\n",
      "19    11\n",
      "18    10\n",
      "20     7\n",
      "22     6\n",
      "23     3\n",
      "24     3\n",
      "25     2\n",
      "28     2\n",
      "29     1\n",
      "26     1\n",
      "42     1\n",
      "Name: Age, dtype: int64\n"
     ]
    }
   ],
   "source": [
    "count_age = data_pd['Age'].value_counts() \n",
    "print(count_age) "
   ]
  },
  {
   "cell_type": "code",
   "execution_count": 11,
   "metadata": {},
   "outputs": [
    {
     "data": {
      "text/plain": [
       "4     33\n",
       "5     35\n",
       "6     42\n",
       "7     27\n",
       "8     18\n",
       "9     20\n",
       "10    22\n",
       "11    15\n",
       "12    15\n",
       "13    13\n",
       "14    14\n",
       "15    13\n",
       "16    17\n",
       "17    11\n",
       "18    10\n",
       "19    11\n",
       "20     7\n",
       "21    12\n",
       "22     6\n",
       "23     3\n",
       "24     3\n",
       "25     2\n",
       "26     1\n",
       "28     2\n",
       "29     1\n",
       "42     1\n",
       "Name: Age, dtype: int64"
      ]
     },
     "execution_count": 11,
     "metadata": {},
     "output_type": "execute_result"
    }
   ],
   "source": [
    "count_age.sort_index(ascending=True)"
   ]
  },
  {
   "cell_type": "code",
   "execution_count": 12,
   "metadata": {},
   "outputs": [
    {
     "data": {
      "text/plain": [
       "array([ 4,  5,  6,  7,  8,  9, 10, 11, 12, 13, 14, 15, 16, 17, 18, 19, 20,\n",
       "       21, 22, 23, 24, 25, 26, 28, 29, 42])"
      ]
     },
     "execution_count": 12,
     "metadata": {},
     "output_type": "execute_result"
    }
   ],
   "source": [
    "age_values = count_age.sort_index(ascending=True).index.values\n",
    "age_values"
   ]
  },
  {
   "cell_type": "code",
   "execution_count": 13,
   "metadata": {},
   "outputs": [
    {
     "data": {
      "text/plain": [
       "26"
      ]
     },
     "execution_count": 13,
     "metadata": {},
     "output_type": "execute_result"
    }
   ],
   "source": [
    "len(age_values)"
   ]
  },
  {
   "cell_type": "code",
   "execution_count": 14,
   "metadata": {},
   "outputs": [
    {
     "data": {
      "text/plain": [
       "array([33, 35, 42, 27, 18, 20, 22, 15, 15, 13, 14, 13, 17, 11, 10, 11,  7,\n",
       "       12,  6,  3,  3,  2,  1,  2,  1,  1])"
      ]
     },
     "execution_count": 14,
     "metadata": {},
     "output_type": "execute_result"
    }
   ],
   "source": [
    "count_values = count_age.sort_index(ascending=True).values\n",
    "count_values"
   ]
  },
  {
   "cell_type": "code",
   "execution_count": 15,
   "metadata": {},
   "outputs": [
    {
     "data": {
      "image/png": "[encoded data removed]",
      "text/plain": [
       "<Figure size 432x288 with 1 Axes>"
      ]
     },
     "metadata": {
      "needs_background": "light"
     },
     "output_type": "display_data"
    }
   ],
   "source": [
    "fig, ax = plt.subplots()\n",
    "plt.bar(age_values, count_values*8)\n",
    "plt.savefig(\"age_values.svg\",dpi=300, transparent=True)\n",
    "\n",
    "\n",
    "plt.show()"
   ]
  },
  {
   "cell_type": "code",
   "execution_count": null,
   "metadata": {},
   "outputs": [],
   "source": []
  },
  {
   "cell_type": "code",
   "execution_count": null,
   "metadata": {},
   "outputs": [],
   "source": []
  },
  {
   "cell_type": "code",
   "execution_count": null,
   "metadata": {},
   "outputs": [],
   "source": []
  },
  {
   "cell_type": "code",
   "execution_count": null,
   "metadata": {},
   "outputs": [],
   "source": []
  },
  {
   "cell_type": "code",
   "execution_count": null,
   "metadata": {},
   "outputs": [],
   "source": []
  },
  {
   "cell_type": "code",
   "execution_count": null,
   "metadata": {},
   "outputs": [],
   "source": []
  },
  {
   "cell_type": "code",
   "execution_count": null,
   "metadata": {},
   "outputs": [],
   "source": []
  },
  {
   "cell_type": "code",
   "execution_count": null,
   "metadata": {},
   "outputs": [],
   "source": []
  },
  {
   "cell_type": "code",
   "execution_count": null,
   "metadata": {},
   "outputs": [],
   "source": []
  },
  {
   "cell_type": "markdown",
   "metadata": {},
   "source": [
    "### Graphics"
   ]
  },
  {
   "cell_type": "code",
   "execution_count": 38,
   "metadata": {},
   "outputs": [
    {
     "name": "stdout",
     "output_type": "stream",
     "text": [
      "violacion_values: 122\n",
      "metrobus_values: 196\n",
      "reportero_values: 157\n",
      "angel_values: 204\n"
     ]
    },
    {
     "data": {
      "image/png": "[encoded data removed]",
      "text/plain": [
       "<Figure size 432x288 with 1 Axes>"
      ]
     },
     "metadata": {
      "needs_background": "light"
     },
     "output_type": "display_data"
    }
   ],
   "source": [
    "violacion_values = [0 ,0 ,4 ,8 ,10,7 ,6 ,13,9 ,7 ,8 ,15,7 ,4 ,11,7 ,2 ,4 ,0 ,0 ]\n",
    "\n",
    "metrobus_values =  [0 ,0 ,0 ,0 ,0 ,0 ,0 ,0 ,0 ,0 ,28,16,12,9 ,39,35,32,25,0 ,0 ]\n",
    "reportero_values = [0 ,0 ,0 ,0 ,0 ,0 ,0 ,0 ,0 ,0 ,0 ,0 ,0 ,0 ,52,39,28,38,0 ,0 ]\n",
    "angel_values =     [0 ,0 ,0 ,0 ,0 ,0 ,0 ,0 ,0 ,0 ,0 ,0 ,0 ,0 ,48,57,47,52,0 ,0 ]\n",
    "\n",
    "\n",
    "\n",
    "\n",
    "dates_list =       [2 ,3 ,4 ,5 ,6 ,7 ,8 ,9 ,10,11,12,13,14,15,16,17,18,19,20,21]\n",
    "\n",
    "\n",
    "\n",
    "\n",
    "param_list =       [1 ,2 ,3 ,4 ,5 ,6 ,7 ,8 ,9 ,10,11,12,13,14,15,16,17,18,19,20]\n",
    "\n",
    "plt.plot(param_list,violacion_values,\n",
    "         param_list,metrobus_values,\n",
    "         param_list,reportero_values,\n",
    "         param_list, angel_values,\n",
    "        linewidth=3,alpha = 0.7)\n",
    "plt.legend((\"Violacion\",\"Metrobus\", \"Reportero\", \"Angel\"))\n",
    "plt.ylabel(\"# Reportajes\")\n",
    "plt.xlabel(\"Dia\")\n",
    "#plt.xticks(np.arange(20), [str(tick) + ' de agosto' for tick in param_list], rotation=-90)\n",
    "plt.xticks(np.arange(20), param_list)\n",
    "\n",
    "plt.savefig(\"violacion.svg\",dpi=300, transparent=True)\n",
    "plt.show\n",
    "\n",
    "print('violacion_values: ' + str(np.array(violacion_values).sum()))\n",
    "print('metrobus_values: ' + str(np.array(metrobus_values).sum()))\n",
    "print('reportero_values: ' + str(np.array(reportero_values).sum()))\n",
    "print('angel_values: ' + str(np.array(angel_values).sum()))"
   ]
  },
  {
   "cell_type": "code",
   "execution_count": 32,
   "metadata": {},
   "outputs": [
    {
     "data": {
      "text/plain": [
       "<function matplotlib.pyplot.show(*args, **kw)>"
      ]
     },
     "execution_count": 32,
     "metadata": {},
     "output_type": "execute_result"
    },
    {
     "data": {
      "image/png": "[encoded data removed]",
      "text/plain": [
       "<Figure size 432x288 with 1 Axes>"
      ]
     },
     "metadata": {
      "needs_background": "light"
     },
     "output_type": "display_data"
    }
   ],
   "source": [
    "violacion_values = [0 ,0 ,4 ,8 ,10,7 ,6 ,13,9 ,7 ,8 ,15,7 ,4 ,11,7 ,2 ,4 ,0 ,0 ]\n",
    "other_values =     [0 ,0 ,0 ,0 ,0 ,0 ,0 ,0 ,0 ,0 ,28,16,12,9 ,139,131,107,115,0 ,0 ]\n",
    "\n",
    "\n",
    "\n",
    "dates_list =       [2 ,3 ,4 ,5 ,6 ,7 ,8 ,9 ,10,11,12,13,14,15,16,17,18,19,20,21]\n",
    "\n",
    "\n",
    "\n",
    "\n",
    "param_list =       [1 ,2 ,3 ,4 ,5 ,6 ,7 ,8 ,9 ,10,11,12,13,14,15,16,17,18,19,20]\n",
    "\n",
    "plt.plot(param_list,violacion_values,\n",
    "         param_list,other_values,\n",
    "        linewidth=3,alpha = 0.7)\n",
    "plt.legend((\"Violacion\",\"Lo demas\"))\n",
    "plt.ylabel(\"# reportajes online\")\n",
    "plt.xlabel(\"agosto\")\n",
    "#plt.xticks(np.arange(20), [str(tick) + ' de agosto' for tick in param_list], rotation=-90)\n",
    "plt.xticks(np.arange(20), param_list)\n",
    "\n",
    "\n",
    "plt.savefig(\"violacion?total.svg\",dpi=300, transparent=True)\n",
    "plt.show"
   ]
  },
  {
   "cell_type": "code",
   "execution_count": null,
   "metadata": {},
   "outputs": [],
   "source": []
  },
  {
   "cell_type": "code",
   "execution_count": null,
   "metadata": {},
   "outputs": [],
   "source": []
  }
 ],
 "metadata": {
  "kernelspec": {
   "display_name": "Python 3",
   "language": "python",
   "name": "python3"
  },
  "language_info": {
   "codemirror_mode": {
    "name": "ipython",
    "version": 3
   },
   "file_extension": ".py",
   "mimetype": "text/x-python",
   "name": "python",
   "nbconvert_exporter": "python",
   "pygments_lexer": "ipython3",
   "version": "3.7.3"
  }
 },
 "nbformat": 4,
 "nbformat_minor": 2
}
